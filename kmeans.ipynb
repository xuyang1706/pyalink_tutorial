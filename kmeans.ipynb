{
 "cells": [
  {
   "cell_type": "markdown",
   "metadata": {},
   "source": [
    "# 准备环境"
   ]
  },
  {
   "cell_type": "code",
   "execution_count": null,
   "metadata": {},
   "outputs": [],
   "source": [
    "%%bash\n",
    "\n",
    "if [ $(pip freeze | grep pyalink | wc -l) -gt 0 ]\n",
    "then\n",
    "    echo \"PyAlink already installed.\"\n",
    "else\n",
    "    IP_LOCATION=$(curl http://ip-api.com/json/?fields=1)\n",
    "    echo $IP_LOCATION\n",
    "    echo \"Installing PyAlink...\"\n",
    "    if [[ \"$IP_LOCATION\" == *\"China\"* ]]\n",
    "    then\n",
    "        echo \"Use mirror in China\"\n",
    "        pip3 install pyalink -i https://mirrors.aliyun.com/pypi/simple/\n",
    "    else\n",
    "        echo \"Use default mirror\"\n",
    "        pip3 install pyalink\n",
    "    fi\n",
    "    echo \"PyAlink installed.\"\n",
    "fi"
   ]
  },
  {
   "cell_type": "code",
   "execution_count": null,
   "metadata": {},
   "outputs": [],
   "source": [
    "from pyalink.alink import *\n",
    "resetEnv()\n",
    "useLocalEnv(1, config=None)"
   ]
  },
  {
   "cell_type": "markdown",
   "metadata": {},
   "source": [
    "# 数据准备"
   ]
  },
  {
   "cell_type": "code",
   "execution_count": null,
   "metadata": {},
   "outputs": [],
   "source": [
    "## prepare data\n",
    "import numpy as np\n",
    "import pandas as pd\n",
    "data = np.array([\n",
    "    [0, 0.0, 0.0, 0.0],\n",
    "    [1, 0.1, 0.1, 0.1],\n",
    "    [2, 0.2, 0.2, 0.2],\n",
    "    [3, 9, 9, 9],\n",
    "    [4, 9.1, 9.1, 9.1],\n",
    "    [5, 9.2, 9.2, 9.2]\n",
    "])\n",
    "df = pd.DataFrame({\"id\": data[:, 0], \"f0\": data[:, 1], \"f1\": data[:, 2], \"f2\": data[:, 3]})\n",
    "inOp = BatchOperator.fromDataframe(df, schemaStr='id double, f0 double, f1 double, f2 double')\n",
    "FEATURE_COLS = [\"f0\", \"f1\", \"f2\"]\n",
    "VECTOR_COL = \"vec\"\n",
    "PRED_COL = \"pred\""
   ]
  },
  {
   "cell_type": "markdown",
   "metadata": {},
   "source": [
    "# 数据预处理"
   ]
  },
  {
   "cell_type": "code",
   "execution_count": null,
   "metadata": {},
   "outputs": [],
   "source": [
    "vectorAssembler = (\n",
    "    VectorAssembler()\n",
    "    .setSelectedCols(FEATURE_COLS)\n",
    "    .setOutputCol(VECTOR_COL)\n",
    ")"
   ]
  },
  {
   "cell_type": "markdown",
   "metadata": {},
   "source": [
    "# 聚类训练"
   ]
  },
  {
   "cell_type": "code",
   "execution_count": null,
   "metadata": {},
   "outputs": [],
   "source": [
    "kMeans = (\n",
    "    KMeans()\n",
    "    .setVectorCol(VECTOR_COL)\n",
    "    .setK(2)\n",
    "    .setPredictionCol(PRED_COL)\n",
    ")"
   ]
  },
  {
   "cell_type": "markdown",
   "metadata": {},
   "source": [
    "# 数据预测"
   ]
  },
  {
   "cell_type": "code",
   "execution_count": null,
   "metadata": {},
   "outputs": [],
   "source": [
    "pipeline = Pipeline().add(vectorAssembler).add(kMeans)\n",
    "pipeline.fit(inOp).transform(inOp).firstN(9).collectToDataframe()"
   ]
  }
 ],
 "metadata": {
  "kernelspec": {
   "display_name": "Python 3",
   "language": "python",
   "name": "python3"
  },
  "language_info": {
   "codemirror_mode": {
    "name": "ipython",
    "version": 3
   },
   "file_extension": ".py",
   "mimetype": "text/x-python",
   "name": "python",
   "nbconvert_exporter": "python",
   "pygments_lexer": "ipython3",
   "version": "3.8.8"
  }
 },
 "nbformat": 4,
 "nbformat_minor": 4
}
