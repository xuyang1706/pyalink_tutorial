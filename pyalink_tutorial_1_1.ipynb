{
 "cells": [
  {
   "cell_type": "markdown",
   "metadata": {},
   "source": [
    "# 简单示例\n",
    "这里将通过一个简单示例，让读者留下一个初步的Alink印象。"
   ]
  },
  {
   "cell_type": "markdown",
   "metadata": {},
   "source": [
    "您可以选择如下操作：\n",
    "* [在Alink使用指南观看](https://www.yuque.com/pinshu/alink_guide/pyalink_tutorial_1_1)\n",
    "* [在Google Colab运行](https://colab.research.google.com/github/xuyang1706/pyalink_tutorial/blob/main/pyalink_tutorial_1_1.ipynb)\n",
    "* [在 GitHub 查看源代码](https://github.com/xuyang1706/pyalink_tutorial/blob/main/pyalink_tutorial_1_1.ipynb)\n",
    "* [下载ipynb文件](https://github.com/xuyang1706/pyalink_tutorial/raw/main/pyalink_tutorial_1_1.ipynb)"
   ]
  },
  {
   "cell_type": "markdown",
   "metadata": {},
   "source": [
    "## 检查Alink环境\n",
    "判断是否已经安装了PyAlink，如果没有安装会自动触发安装。\n",
    "在安装前会判断是否在中国，便于通过中国的镜像服务器加速软件下载过程。"
   ]
  },
  {
   "cell_type": "code",
   "execution_count": null,
   "metadata": {},
   "outputs": [],
   "source": [
    "%%bash\n",
    "\n",
    "if [ $(pip freeze | grep pyalink | wc -l) -gt 0 ]\n",
    "then\n",
    "    echo \"PyAlink already installed.\"\n",
    "else\n",
    "    IP_LOCATION=$(curl http://ip-api.com/json/?fields=1)\n",
    "    echo $IP_LOCATION\n",
    "    echo \"Installing PyAlink...\"\n",
    "    if [[ \"$IP_LOCATION\" == *\"China\"* ]]\n",
    "    then\n",
    "        echo \"Use mirror in China\"\n",
    "        pip3 install pyalink -i https://mirrors.aliyun.com/pypi/simple/\n",
    "    else\n",
    "        echo \"Use default mirror\"\n",
    "        pip3 install pyalink\n",
    "    fi\n",
    "    echo \"PyAlink installed.\"\n",
    "fi"
   ]
  },
  {
   "cell_type": "markdown",
   "metadata": {},
   "source": [
    "## 导入PyAlink\n",
    "设置本地运行环境，设置本地数据文件路径（默认为当前执行路径）"
   ]
  },
  {
   "cell_type": "code",
   "execution_count": null,
   "metadata": {},
   "outputs": [],
   "source": [
    "from pyalink.alink import *\n",
    "useLocalEnv(1)\n",
    "\n",
    "import os\n",
    "\n",
    "DATA_DIR = \".\" + os.sep"
   ]
  },
  {
   "cell_type": "markdown",
   "metadata": {},
   "source": [
    "## 读取网络文件与显示\n",
    "我们以常用的鸢尾花（iris）数据集为例，演示一下如何读取数据。该数据可以通过网络链接直接下载。Alink的CSV格式数据源读取组件，不但可以读取本地文件，还可以直接读取网络文件；在该组件读取文件的时候需要指定各列数据的名称和类型。下面是具体的代码。在此，读取出数据后，选择前5条数据进行打印输出"
   ]
  },
  {
   "cell_type": "code",
   "execution_count": null,
   "metadata": {},
   "outputs": [],
   "source": [
    "source = CsvSourceBatchOp()\\\n",
    "    .setFilePath(\"http://archive.ics.uci.edu/ml/machine-learning-databases/iris/iris.data\")\\\n",
    "    .setSchemaStr(\"sepal_length double, sepal_width double, petal_length double, \"\n",
    "                  + \"petal_width double, category string\")\n",
    "\n",
    "source.firstN(5).print()"
   ]
  },
  {
   "cell_type": "markdown",
   "metadata": {},
   "source": [
    "## 数据采样及写出\n",
    "下一步，我们对数据进行采样，采样数为10条，然后连接到CSV格式输出组件CsvSinkBatchOp，并设置相应的输出路径。可以设置覆盖写参数为True。"
   ]
  },
  {
   "cell_type": "code",
   "execution_count": null,
   "metadata": {},
   "outputs": [],
   "source": [
    "source.sampleWithSize(10)\\\n",
    "    .link(\n",
    "        CsvSinkBatchOp()\\\n",
    "            .setFilePath(DATA_DIR + \"iris_10.csv\")\\\n",
    "            .setOverwriteSink(True)\n",
    "    )\n",
    "\n",
    "BatchOperator.execute()"
   ]
  },
  {
   "cell_type": "markdown",
   "metadata": {},
   "source": [
    "## 读取本地数据\n",
    "读取刚才写出的CSV文件，使用LazyPrint方式打印输出，并使用GroupBy操作，得到各类别的样本个数。"
   ]
  },
  {
   "cell_type": "code",
   "execution_count": null,
   "metadata": {},
   "outputs": [],
   "source": [
    "CsvSourceBatchOp()\\\n",
    "    .setFilePath(DATA_DIR + \"iris_10.csv\")\\\n",
    "    .setSchemaStr(\"sepal_length double, sepal_width double, petal_length double, \"\n",
    "                  + \"petal_width double, category string\")\\\n",
    "    .lazyPrint(-1, \"【 采样数据 】\")\\\n",
    "    .groupBy(\"category\", \"category, COUNT(*) AS cnt\")\\\n",
    "    .print()"
   ]
  }
 ],
 "metadata": {
  "kernelspec": {
   "display_name": "Python 3",
   "language": "python",
   "name": "python3"
  },
  "language_info": {
   "codemirror_mode": {
    "name": "ipython",
    "version": 3
   },
   "file_extension": ".py",
   "mimetype": "text/x-python",
   "name": "python",
   "nbconvert_exporter": "python",
   "pygments_lexer": "ipython3",
   "version": "3.8.8"
  }
 },
 "nbformat": 4,
 "nbformat_minor": 4
}
